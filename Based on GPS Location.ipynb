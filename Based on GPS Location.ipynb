{
  "nbformat": 4,
  "nbformat_minor": 0,
  "metadata": {
    "colab": {
      "provenance": []
    },
    "kernelspec": {
      "name": "python3",
      "display_name": "Python 3"
    },
    "language_info": {
      "name": "python"
    }
  },
  "cells": [
    {
      "cell_type": "code",
      "execution_count": null,
      "metadata": {
        "id": "QVm2aTfiPfhR"
      },
      "outputs": [],
      "source": [
        "import pandas as pd\n",
        "from math import radians, cos, sin, asin, sqrt\n"
      ]
    },
    {
      "cell_type": "code",
      "source": [
        "\n",
        "df = pd.read_csv(\"/content/DATA SET IPL (1).csv\")\n",
        "\n"
      ],
      "metadata": {
        "id": "4WPXcdwAUzJO"
      },
      "execution_count": null,
      "outputs": []
    },
    {
      "cell_type": "code",
      "source": [
        "coordinates = {}\n",
        "for index, row in df.iterrows():\n",
        "    coordinates[row[\"TOURIST PLACES\"]] = (row[\"LATITUDE\"], row[\"LONGTITUDE\"])"
      ],
      "metadata": {
        "id": "GDzfFsQXWiMy"
      },
      "execution_count": null,
      "outputs": []
    },
    {
      "cell_type": "code",
      "source": [
        "def haversine(lat1, lon1, lat2, lon2):\n",
        "    R = 6372.8  # Earth radius in kilometers\n",
        "\n",
        "    dLat = radians(lat2 - lat1)\n",
        "    dLon = radians(lon2 - lon1)\n",
        "    lat1 = radians(lat1)\n",
        "    lat2 = radians(lat2)\n",
        "\n",
        "    a = sin(dLat / 2)**2 + cos(lat1) * cos(lat2) * sin(dLon / 2)**2\n",
        "    c = 2 * asin(sqrt(a))\n",
        "\n",
        "    distance_km = R * c\n",
        "    return distance_km\n"
      ],
      "metadata": {
        "id": "6ab0gZQhVi1w"
      },
      "execution_count": null,
      "outputs": []
    },
    {
      "cell_type": "code",
      "source": [
        "def get_closest_places(place, N=5):\n",
        "    lat1, lon1 = coordinates[place]\n",
        "    distances = []\n",
        "    for p in coordinates:\n",
        "        if p != place:\n",
        "            lat2, lon2 = coordinates[p]\n",
        "            distance = haversine(float(lat1), float(lon1), float(lat2), float(lon2))\n",
        "            distances.append((p, distance))\n",
        "    distances.sort(key=lambda x: x[1])\n",
        "    return distances[:N]"
      ],
      "metadata": {
        "id": "0j3OmmrVVowG"
      },
      "execution_count": null,
      "outputs": []
    },
    {
      "cell_type": "code",
      "source": [
        "get_closest_places(\"BULL TEMPLE\", N=5)"
      ],
      "metadata": {
        "colab": {
          "base_uri": "https://localhost:8080/"
        },
        "id": "ndfmQMUqVrqd",
        "outputId": "e78fe84b-58e8-41a2-f737-88f8d5fb4b52"
      },
      "execution_count": null,
      "outputs": [
        {
          "output_type": "execute_result",
          "data": {
            "text/plain": [
              "[('LALBAGH BOTANICAL PARK', 2.100051153518768),\n",
              " ('FREEDOM PARK', 2.211400384281076),\n",
              " ('UB CITY', 4.519894046456506),\n",
              " ('CUBBON PARK', 4.654739503088409),\n",
              " ('VIDHAN SABHA', 4.821003194699668)]"
            ]
          },
          "metadata": {},
          "execution_count": 7
        }
      ]
    },
    {
      "cell_type": "code",
      "source": [],
      "metadata": {
        "id": "4v6jYdf6Vtln"
      },
      "execution_count": null,
      "outputs": []
    }
  ]
}