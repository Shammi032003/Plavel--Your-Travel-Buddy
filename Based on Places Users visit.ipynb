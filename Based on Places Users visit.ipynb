{
  "nbformat": 4,
  "nbformat_minor": 0,
  "metadata": {
    "colab": {
      "provenance": []
    },
    "kernelspec": {
      "name": "python3",
      "display_name": "Python 3"
    },
    "language_info": {
      "name": "python"
    }
  },
  "cells": [
    {
      "cell_type": "code",
      "source": [
        "import pandas as pd\n",
        "import numpy as np\n",
        "from sklearn.feature_extraction.text import TfidfVectorizer\n",
        "from sklearn.metrics.pairwise import cosine_similarity"
      ],
      "metadata": {
        "id": "vbDpLsWRPdtK"
      },
      "execution_count": null,
      "outputs": []
    },
    {
      "cell_type": "code",
      "source": [
        "data = pd.DataFrame({'State': ['KARNATAKA', 'KARNATAKA', 'KARNATAKA', 'KARNATAKA', 'KARNATAKA', 'KARNATAKA', 'KARNATAKA', 'KARNATAKA', 'KARNATAKA', 'KARNATAKA', 'KARNATAKA', 'KARNATAKA', 'KARNATAKA', 'KARNATAKA', 'KARNATAKA', 'KARNATAKA', 'KARNATAKA', 'KARNATAKA', 'KARNATAKA', 'KARNATAKA'],\n",
        "                    'City': ['BANGALORE', 'BANGALORE', 'BANGALORE', 'BANGALORE', 'BANGALORE', 'BANGALORE', 'BANGALORE', 'BANGALORE', 'BANGALORE', 'BANGALORE', 'BANGALORE', 'BANGALORE', 'BANGALORE', 'BANGALORE', 'BANGALORE', 'BANGALORE', 'BANGALORE', 'BANGALORE', 'BANGALORE', 'BANGALORE'],\n",
        "                    'Place': ['BANNERGHATTA NATIONAL PARK', 'BANGALORE PALACE', 'CUBBON PARK', 'ISKON TEMPLE', 'WONDERLA', 'COMMERCIAL STREET', 'FREEDOM PARK', 'ORION MALL', 'ULSOOR LAKE', 'UB CITY MALL', 'MG ROAD', 'BRIGADE ROAD', 'VEGA CITY MALL', 'MEENAKSHI TEMPLE', 'BULL TEMPLE', 'DEVANAHALLI FORT', 'SNOW CITY', 'LULU MALL', 'PHOENIX MALL', 'LALBAGH BOTANICAL PARK']})"
      ],
      "metadata": {
        "id": "XzCVtX5TOlP4"
      },
      "execution_count": null,
      "outputs": []
    },
    {
      "cell_type": "code",
      "source": [
        "tfidf = TfidfVectorizer(stop_words='english')\n",
        "tfidf_matrix = tfidf.fit_transform(data['Place'])"
      ],
      "metadata": {
        "id": "BesBPKHMOme-"
      },
      "execution_count": null,
      "outputs": []
    },
    {
      "cell_type": "code",
      "source": [
        "cosine_sim = cosine_similarity(tfidf_matrix, tfidf_matrix)\n"
      ],
      "metadata": {
        "id": "g0t8nIutOteP"
      },
      "execution_count": null,
      "outputs": []
    },
    {
      "cell_type": "code",
      "source": [
        "def recommend_places(place, cosine_sim=cosine_sim):\n",
        "    index = data[data['Place'] == place].index[0]\n",
        "    similarity_scores = list(enumerate(cosine_sim[index]))\n",
        "    similarity_scores = sorted(similarity_scores, key=lambda x: x[1], reverse=True)\n",
        "    similarity_scores = similarity_scores[1:6]\n",
        "    place_indices = [i[0] for i in similarity_scores]\n",
        "    return list(data['Place'].iloc[place_indices])"
      ],
      "metadata": {
        "id": "Xq0Yxb7bOuJ8"
      },
      "execution_count": null,
      "outputs": []
    },
    {
      "cell_type": "code",
      "source": [
        "recommend_places('CUBBON PARK')"
      ],
      "metadata": {
        "colab": {
          "base_uri": "https://localhost:8080/"
        },
        "id": "hLTYcNdYOvvF",
        "outputId": "218165b6-b974-4233-c5d1-d49886be76f8"
      },
      "execution_count": null,
      "outputs": [
        {
          "output_type": "execute_result",
          "data": {
            "text/plain": [
              "['BANNERGHATTA NATIONAL PARK',\n",
              " 'LALBAGH BOTANICAL PARK',\n",
              " 'BANGALORE PALACE',\n",
              " 'ISKON TEMPLE',\n",
              " 'WONDERLA']"
            ]
          },
          "metadata": {},
          "execution_count": 14
        }
      ]
    },
    {
      "cell_type": "code",
      "source": [],
      "metadata": {
        "id": "VUvPJsHOP5I5"
      },
      "execution_count": null,
      "outputs": []
    }
  ]
}